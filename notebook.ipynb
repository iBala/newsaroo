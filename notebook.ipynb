{
 "cells": [
  {
   "cell_type": "code",
   "execution_count": 2,
   "metadata": {},
   "outputs": [
    {
     "name": "stdout",
     "output_type": "stream",
     "text": [
      "hello world\n"
     ]
    }
   ],
   "source": [
    "print(\"hello world\")"
   ]
  },
  {
   "cell_type": "code",
   "execution_count": 3,
   "metadata": {},
   "outputs": [],
   "source": [
    "a = 1"
   ]
  },
  {
   "cell_type": "code",
   "execution_count": 4,
   "metadata": {},
   "outputs": [],
   "source": [
    "b=2+a"
   ]
  },
  {
   "cell_type": "code",
   "execution_count": 5,
   "metadata": {},
   "outputs": [
    {
     "name": "stdout",
     "output_type": "stream",
     "text": [
      "3\n"
     ]
    }
   ],
   "source": [
    "print(b)"
   ]
  },
  {
   "cell_type": "markdown",
   "metadata": {},
   "source": [
    "Objective: Create a daily new summarizer app\n",
    "### How it works:\n",
    "- Runs every day for a given topic\n",
    "- Takes the last 24 hours and searches for news across the internet\n",
    "- Summarizes the news and sends it to me"
   ]
  },
  {
   "cell_type": "code",
   "execution_count": 1,
   "metadata": {},
   "outputs": [],
   "source": [
    "# Import necessary libraries\n",
    "import requests\n",
    "import json\n",
    "from datetime import datetime, timedelta\n",
    "from serpapi import GoogleSearch\n",
    "import litellm\n",
    "import time\n",
    "import os"
   ]
  },
  {
   "cell_type": "code",
   "execution_count": 3,
   "metadata": {},
   "outputs": [],
   "source": [
    "# Load environment variables from .env file\n",
    "from dotenv import load_dotenv\n",
    "load_dotenv()  # take environment variables from .env\n",
    "\n",
    "# Get API keys from environment variables\n",
    "SERPAPI_KEY = os.environ.get(\"SERP_API_KEY\")\n",
    "OPENAI_API_KEY = os.environ.get(\"OPENAI_API_KEY\")\n",
    "\n",
    "# Check if keys are available\n",
    "if not SERPAPI_KEY or not OPENAI_API_KEY:\n",
    "    print(\"Warning: API keys not found in environment variables. Please check your .env file.\")\n",
    "\n",
    "# Set the OpenAI API key for litellm\n",
    "os.environ[\"OPENAI_API_KEY\"] = OPENAI_API_KEY\n",
    "\n",
    "\n",
    "# Configure litellm\n",
    "litellm.set_verbose = False"
   ]
  },
  {
   "cell_type": "code",
   "execution_count": 4,
   "metadata": {},
   "outputs": [
    {
     "name": "stdout",
     "output_type": "stream",
     "text": [
      "Searching for news on: Trump vs Zelensky\n"
     ]
    }
   ],
   "source": [
    "def get_user_topic():\n",
    "    \"\"\"Get the news topic from the user via terminal input\"\"\"\n",
    "    topic = input(\"Enter the news topic you're interested in: \")\n",
    "    return topic\n",
    "\n",
    "# Get the topic\n",
    "topic = get_user_topic()\n",
    "print(f\"Searching for news on: {topic}\")"
   ]
  },
  {
   "cell_type": "code",
   "execution_count": 5,
   "metadata": {},
   "outputs": [
    {
     "name": "stdout",
     "output_type": "stream",
     "text": [
      "Searching for news on 'Trump vs Zelensky' from the last 24 hours...\n",
      "Found 10 news articles\n"
     ]
    }
   ],
   "source": [
    "def search_news(topic, api_key, time_period=\"1d\"):\n",
    "    \"\"\"Search for news on the given topic using SerpAPI\n",
    "    \n",
    "    Args:\n",
    "        topic (str): The news topic to search for\n",
    "        api_key (str): SerpAPI key\n",
    "        time_period (str): Time period for news (default: \"1d\" for 1 day)\n",
    "        \n",
    "    Returns:\n",
    "        list: List of news results\n",
    "    \"\"\"\n",
    "    print(f\"Searching for news on '{topic}' from the last 24 hours...\")\n",
    "    \n",
    "    # Configure the search parameters\n",
    "    params = {\n",
    "        \"engine\": \"google\",\n",
    "        \"q\": f\"{topic} news\",\n",
    "        \"tbm\": \"nws\",  # News search\n",
    "        \"tbs\": f\"qdr:{time_period}\",  # Time period (1d = 1 day)\n",
    "        \"num\": 10,  # Number of results\n",
    "        \"api_key\": api_key\n",
    "    }\n",
    "    \n",
    "    try:\n",
    "        # Execute the search\n",
    "        search = GoogleSearch(params)\n",
    "        results = search.get_dict()\n",
    "        \n",
    "        # Check if we have news results\n",
    "        if \"news_results\" in results and results[\"news_results\"]:\n",
    "            print(f\"Found {len(results['news_results'])} news articles\")\n",
    "            return results[\"news_results\"]\n",
    "        else:\n",
    "            print(\"No news results found. Try a different topic or time period.\")\n",
    "            return []\n",
    "    except Exception as e:\n",
    "        print(f\"Error searching for news: {e}\")\n",
    "        return []\n",
    "\n",
    "# Search for news on the topic\n",
    "news_results = search_news(topic, SERPAPI_KEY)"
   ]
  },
  {
   "cell_type": "code",
   "execution_count": 7,
   "metadata": {},
   "outputs": [
    {
     "name": "stdout",
     "output_type": "stream",
     "text": [
      "Fetching content for 10 articles...\n",
      "Processing article 1/10: Zelensky told to leave White House after angry spat with Trump and Vance\n",
      "Processing article 2/10: Bowen: Trump-Zelensky row signals looming crisis between Europe and US\n",
      "Processing article 3/10: Zelensky bristled at his berating by Trump and Vance. After three years of war, what did they expect?\n",
      "Processing article 4/10: ‘The free world needs a new leader’, EU foreign chief warns after explosive row between Trump and Zelensky\n",
      "Processing article 5/10: In Showdown With Zelensky, Trump Takes Offense on Putin’s Behalf\n",
      "Processing article 6/10: Contentious Trump-Zelensky meeting threatens U.S. support for Ukraine\n",
      "Error fetching article from https://www.washingtonpost.com/politics/2025/02/28/trump-ukraine-russia-zelensky/: HTTPSConnectionPool(host='www.washingtonpost.com', port=443): Read timed out. (read timeout=10)\n",
      "Processing article 7/10: 5 takeaways from Trump-Vance-Zelensky Oval Office blowup\n",
      "Error fetching article from https://thehill.com/homenews/administration/5170254-five-takeaways-from-trump-vance-zelensky-oval-office-blow-up/: 403 Client Error: Forbidden for url: https://thehill.com/homenews/administration/5170254-five-takeaways-from-trump-vance-zelensky-oval-office-blow-up/\n",
      "Processing article 8/10: Zelenskyy's White House meeting with Trump and Vance unravels into a heated clash\n",
      "Processing article 9/10: \"Cocaine Clown, Putin's Dirty Work\": World Reacts To Trump vs Zelensky\n",
      "Processing article 10/10: At Least Now We Know the Truth About Trump and Vance\n"
     ]
    }
   ],
   "source": [
    "def fetch_article_content(url):\n",
    "    \"\"\"Fetch the content of a news article from its URL\n",
    "    \n",
    "    Args:\n",
    "        url (str): URL of the news article\n",
    "        \n",
    "    Returns:\n",
    "        str: The HTML content of the article\n",
    "    \"\"\"\n",
    "    try:\n",
    "        # Set a user agent to avoid being blocked\n",
    "        headers = {\n",
    "            \"User-Agent\": \"Mozilla/5.0 (Windows NT 10.0; Win64; x64) AppleWebKit/537.36 (KHTML, like Gecko) Chrome/91.0.4472.124 Safari/537.36\"\n",
    "        }\n",
    "        response = requests.get(url, headers=headers, timeout=10)\n",
    "        response.raise_for_status()  # Raise an exception for HTTP errors\n",
    "        return response.text\n",
    "    except Exception as e:\n",
    "        print(f\"Error fetching article from {url}: {e}\")\n",
    "        return \"\"\n",
    "\n",
    "def process_news_results(news_results, max_articles=10):\n",
    "    \"\"\"Process the news results and fetch article content\n",
    "    \n",
    "    Args:\n",
    "        news_results (list): List of news results from SerpAPI\n",
    "        max_articles (int): Maximum number of articles to process\n",
    "        \n",
    "    Returns:\n",
    "        list: List of processed articles with content\n",
    "    \"\"\"\n",
    "    processed_articles = []\n",
    "    \n",
    "    # Limit the number of articles to process\n",
    "    articles_to_process = news_results[:max_articles]\n",
    "    \n",
    "    print(f\"Fetching content for {len(articles_to_process)} articles...\")\n",
    "    \n",
    "    for i, article in enumerate(articles_to_process):\n",
    "        print(f\"Processing article {i+1}/{len(articles_to_process)}: {article['title']}\")\n",
    "        \n",
    "        # Extract article information\n",
    "        article_info = {\n",
    "            \"title\": article.get(\"title\", \"\"),\n",
    "            \"link\": article.get(\"link\", \"\"),\n",
    "            \"source\": article.get(\"source\", \"\"),\n",
    "            \"snippet\": article.get(\"snippet\", \"\"),\n",
    "            \"date\": article.get(\"date\", \"\")\n",
    "        }\n",
    "        \n",
    "        # Fetch the article content if we have a link\n",
    "        if article_info[\"link\"]:\n",
    "            article_info[\"content\"] = fetch_article_content(article_info[\"link\"])\n",
    "        else:\n",
    "            article_info[\"content\"] = \"\"\n",
    "        \n",
    "        processed_articles.append(article_info)\n",
    "        \n",
    "        # Add a small delay to avoid overwhelming servers\n",
    "        time.sleep(1)\n",
    "    \n",
    "    return processed_articles\n",
    "\n",
    "# Process the news results and fetch article content\n",
    "processed_articles = process_news_results(news_results)"
   ]
  },
  {
   "cell_type": "code",
   "execution_count": 8,
   "metadata": {},
   "outputs": [
    {
     "name": "stdout",
     "output_type": "stream",
     "text": [
      "Summarizing news articles using LLM...\n"
     ]
    }
   ],
   "source": [
    "def summarize_with_llm(articles, topic):\n",
    "    \"\"\"Summarize the news articles using an LLM\n",
    "    \n",
    "    Args:\n",
    "        articles (list): List of processed articles\n",
    "        topic (str): The original search topic\n",
    "        \n",
    "    Returns:\n",
    "        str: Summarized news in the requested format\n",
    "    \"\"\"\n",
    "    if not articles:\n",
    "        return \"No articles found to summarize.\"\n",
    "    \n",
    "    print(\"Summarizing news articles using LLM...\")\n",
    "    \n",
    "    # Prepare the context for the LLM\n",
    "    context = f\"I need a summary of recent news about '{topic}'. Here are the articles I found:\\n\\n\"\n",
    "    \n",
    "    for i, article in enumerate(articles):\n",
    "        context += f\"Article {i+1}: {article['title']}\\n\"\n",
    "        context += f\"Source: {article['source']}\\n\"\n",
    "        context += f\"Date: {article['date']}\\n\"\n",
    "        context += f\"Snippet: {article['snippet']}\\n\\n\"\n",
    "    \n",
    "    # Create the prompt for the LLM\n",
    "    prompt = f\"\"\"{context}\n",
    "    \n",
    "    Based on these articles, provide me with the \"Top 3 important items I should know about {topic} and why they matter\".\n",
    "    \n",
    "    Format your response as a numbered list with a brief explanation for each item.\n",
    "    Focus on the most significant developments or insights from the last 24 hours.\n",
    "    \"\"\"\n",
    "    \n",
    "    try:\n",
    "        # Call the LLM using litellm\n",
    "        response = litellm.completion(\n",
    "            model=\"gpt-4o\",  # You can change this to your preferred model\n",
    "            messages=[\n",
    "                {\"role\": \"system\", \"content\": \"You are a helpful news summarization assistant that provides concise, accurate summaries of recent news.\"},\n",
    "                {\"role\": \"user\", \"content\": prompt}\n",
    "            ],\n",
    "            max_tokens=1000\n",
    "        )\n",
    "        \n",
    "        # Extract the summary from the response\n",
    "        summary = response.choices[0].message.content\n",
    "        return summary\n",
    "    except Exception as e:\n",
    "        print(f\"Error summarizing with LLM: {e}\")\n",
    "        return \"Error generating summary. Please check your API keys and try again.\"\n",
    "\n",
    "# Summarize the articles\n",
    "summary = summarize_with_llm(processed_articles, topic)"
   ]
  },
  {
   "cell_type": "code",
   "execution_count": 9,
   "metadata": {},
   "outputs": [
    {
     "name": "stdout",
     "output_type": "stream",
     "text": [
      "\n",
      "================================================================================\n",
      "NEWS SUMMARY FOR: TRUMP VS ZELENSKY\n",
      "================================================================================\n",
      "Certainly! Here are the top three important items to know about the recent Trump vs. Zelensky situation, based on the articles provided:\n",
      "\n",
      "1. **Heated Exchange in the Oval Office:**\n",
      "   A meeting between former U.S. President Donald Trump, Ukrainian President Volodymyr Zelensky, and Vice President JD Vance descended into a contentious argument. The confrontation included accusations from Trump that Zelensky was unprepared for peace, reflecting deep tensions about the handling of the ongoing Ukraine-Russia conflict. This matters because it underscores the strained diplomatic relations and potential challenges in obtaining U.S. support for Ukraine.\n",
      "\n",
      "2. **Implications for U.S.-Ukraine Relations:**\n",
      "   The fallout from this meeting has raised concerns about the future of U.S. support for Ukraine. Zelensky's visit to Washington was intended to secure continued American backing amid Russia's ongoing military aggression. The hostile interaction signals possible shifts in U.S. foreign policy priorities and could impact Ukraine's strategic defense efforts significantly.\n",
      "\n",
      "3. **Broader Impact on Global Politics:**\n",
      "   The European Union's foreign chief highlighted the need for new leadership in the free world following the explosive row, indicating growing anxieties about geopolitical stability. This widens the incident's implications beyond bilateral relations and suggests that global alliances and power dynamics could be affected, with potential ramifications for international diplomacy and conflict resolution efforts.\n",
      "================================================================================\n"
     ]
    }
   ],
   "source": [
    "def display_summary(summary, topic):\n",
    "    \"\"\"Display the final news summary\n",
    "    \n",
    "    Args:\n",
    "        summary (str): The summarized news\n",
    "        topic (str): The original search topic\n",
    "    \"\"\"\n",
    "    print(\"\\n\" + \"=\" * 80)\n",
    "    print(f\"NEWS SUMMARY FOR: {topic.upper()}\")\n",
    "    print(\"=\" * 80)\n",
    "    print(summary)\n",
    "    print(\"=\" * 80)\n",
    "\n",
    "# Display the summary\n",
    "display_summary(summary, topic)"
   ]
  },
  {
   "cell_type": "code",
   "execution_count": 12,
   "metadata": {},
   "outputs": [
    {
     "name": "stdout",
     "output_type": "stream",
     "text": [
      "Searching for news on: India EU meet\n",
      "Searching for news on 'India EU meet' from the last 24 hours...\n",
      "Found 10 news articles\n",
      "Fetching content for 10 articles...\n",
      "Processing article 1/10: India and EU agree to conclude a long-pending free trade agreement by the end of this year\n",
      "Processing article 2/10: India-EU Trade Council Meeting Boosts Cooperation\n",
      "Processing article 3/10: India-EU Trade Pact Talks Heat Up Amid Trump Tariff Warnings PM Meets EU Chief In Delhi\n",
      "Processing article 4/10: India, EU hold bilateral cluster meeting, discuss connectivity, IMEC, security\n",
      "Processing article 5/10: Joint Statement : Second Meeting of the India-EU TTC\n",
      "Processing article 6/10: India and EU hold their Trade and Technology Council meeting, stress strengthening cooperation on trade and emerging technologies\n",
      "Processing article 7/10: Spotlight on FTA ahead of EU chief’s key meetings in India\n",
      "Processing article 8/10: India a trusted friend, looking to elevate strategic ties: EU President\n",
      "Processing article 9/10: PM Modi holds delegation-level talks with European Commission chief Ursula von der Leyen in Delhi\n",
      "Processing article 10/10: Strategic partnership between India, EU is natural, organic: PM Modi after meeting EU chief Ursula\n",
      "Summarizing news articles using LLM...\n",
      "\n",
      "================================================================================\n",
      "NEWS SUMMARY FOR: INDIA EU MEET\n",
      "================================================================================\n",
      "Based on the recent news articles about the India-EU meet, here are the top 3 important items you should know:\n",
      "\n",
      "1. **Free Trade Agreement (FTA) Negotiations**:\n",
      "   - India and the European Union have agreed to finalize a long-pending free trade agreement by the end of the year. This development aims to boost trade cooperation between the two and is considered to be one of the largest trade deals if completed. The successful conclusion of this FTA could significantly enhance economic ties and market access between India and the EU.\n",
      "\n",
      "2. **India-EU Trade and Technology Council (TTC) Meeting**:\n",
      "   - The second ministerial meeting of the India-EU Trade and Technology Council (TTC) took place in New Delhi. Both parties stressed strengthening cooperation on trade and emerging technologies. This council serves as a high-level platform to discuss technological collaborations and address bilateral trade issues, reflecting their strategic focus on innovation and digital transitions.\n",
      "\n",
      "3. **High-Level Meetings and Strategic Partnerships**:\n",
      "   - The visit of European Commission President Ursula von der Leyen to New Delhi included a series of high-level meetings with Indian Prime Minister Narendra Modi. Discussions emphasized the natural and organic strategic partnership between India and the EU. Strengthening these ties is vital for addressing global challenges such as security, climate change, and connectivity, indicating a mutual commitment to deepen their geopolitical and economic partnership.\n",
      "================================================================================\n"
     ]
    }
   ],
   "source": [
    "def news_summarizer(topic=None):\n",
    "    \"\"\"Complete news summarizer function that runs the entire process\n",
    "    \n",
    "    Args:\n",
    "        topic (str, optional): The news topic. If None, will prompt the user.\n",
    "    \n",
    "    Returns:\n",
    "        str: The summarized news\n",
    "    \"\"\"\n",
    "    # 1. Get the topic if not provided\n",
    "    topic = get_user_topic()\n",
    "    \n",
    "    print(f\"Searching for news on: {topic}\")\n",
    "    \n",
    "    # 2. Search for news\n",
    "    news_results = search_news(topic, SERPAPI_KEY)\n",
    "    \n",
    "    if not news_results:\n",
    "        return \"No news found for the given topic. Please try a different topic.\"\n",
    "    \n",
    "    # 3. Process the news results and fetch content\n",
    "    processed_articles = process_news_results(news_results)\n",
    "    \n",
    "    # 4. Summarize the articles\n",
    "    summary = summarize_with_llm(processed_articles, topic)\n",
    "    \n",
    "    # 5. Display the summary\n",
    "    display_summary(summary, topic)\n",
    "    \n",
    "    return summary\n",
    "\n",
    "# Example usage:\n",
    "summary = news_summarizer(\"artificial intelligence\")"
   ]
  },
  {
   "cell_type": "code",
   "execution_count": null,
   "metadata": {},
   "outputs": [],
   "source": []
  }
 ],
 "metadata": {
  "kernelspec": {
   "display_name": ".news_env",
   "language": "python",
   "name": "python3"
  },
  "language_info": {
   "codemirror_mode": {
    "name": "ipython",
    "version": 3
   },
   "file_extension": ".py",
   "mimetype": "text/x-python",
   "name": "python",
   "nbconvert_exporter": "python",
   "pygments_lexer": "ipython3",
   "version": "3.11.11"
  }
 },
 "nbformat": 4,
 "nbformat_minor": 2
}
